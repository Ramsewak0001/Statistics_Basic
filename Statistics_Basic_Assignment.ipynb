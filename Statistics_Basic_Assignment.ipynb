{
 "cells": [
  {
   "cell_type": "code",
   "execution_count": null,
   "id": "a88e4912-93dd-4499-a370-3a0d5fbc03c1",
   "metadata": {},
   "outputs": [],
   "source": [
    "Q1. What is Statistics?"
   ]
  },
  {
   "cell_type": "code",
   "execution_count": null,
   "id": "fc7a2bc1-ed0a-4afe-abef-bcca520200d5",
   "metadata": {},
   "outputs": [],
   "source": [
    "Ans : Statistics is the science of collection , Organizing and analyze the data."
   ]
  },
  {
   "cell_type": "code",
   "execution_count": null,
   "id": "0d061cbe-ca25-4316-9691-5caac77d344b",
   "metadata": {},
   "outputs": [],
   "source": [
    "Q2. Define the different types of statistics and give an example of when each type might be used."
   ]
  },
  {
   "cell_type": "code",
   "execution_count": null,
   "id": "fa44e180-4f21-4d41-89d5-37bd902d758d",
   "metadata": {},
   "outputs": [],
   "source": [
    "Ans : There are two type of statistics :\n",
    "    1. Descriptive : \n",
    "                    It consist of organizing and summarizing of data.\n",
    "                    1. Measure of central tendency\n",
    "                    2. Measure of Dispersion\n",
    "                    3. Different type of distribution of data\n",
    "                for example : Histogram , pdf ,pmf\n",
    "    2. Inferential :\n",
    "                   It consist of using data you have measured to form conclusion.\n",
    "                   1. z-test\n",
    "                   2. t-test\n",
    "                   3. Chi-test\n",
    "                for example : for a given data of height of student of class , are the heignt of                             student in that class is similar to what you expect in the entire school."
   ]
  },
  {
   "cell_type": "code",
   "execution_count": null,
   "id": "d22876ca-aeba-4109-9335-fd56e437b8c6",
   "metadata": {},
   "outputs": [],
   "source": [
    "Q3. What are the different types of data and how do they differ from each other? Provide an example of\n",
    "    each type of data."
   ]
  },
  {
   "cell_type": "code",
   "execution_count": null,
   "id": "85e5ead4-d91d-42c2-8702-3b4b4147c85f",
   "metadata": {},
   "outputs": [],
   "source": [
    "Ans : Data are of two types :\n",
    "     1. Quantative (numerical) :\n",
    "            This data is based on quantity.\n",
    "            This is of two types:\n",
    "            1. Discreate data :\n",
    "                             This data cannot be sub divided in a meaning full manner.\n",
    "                             for example : number of students in a class.\n",
    "            2. Continuous data :\n",
    "                             This data can be dividen in a meaningfull manner.\n",
    "                             for example : Weight,Height,Temperature etc.\n",
    "    2. Qualitative (Catagorical) :\n",
    "            This type of data is based on the catagory like gender,pass/fail.\n",
    "            This is of two types:\n",
    "            1. Nominal data :\n",
    "                            In this data type the order does not matter.\n",
    "                            for example : Gander,coins\n",
    "            2. Ordinal data :\n",
    "                            In this data the rank of the data matter.\n",
    "                            for example : position , feedbak etc."
   ]
  },
  {
   "cell_type": "code",
   "execution_count": null,
   "id": "d8a4d6da-219e-43b5-bc44-0f222b0ec7d4",
   "metadata": {},
   "outputs": [],
   "source": [
    "Q4. Categorise the following datasets with respect to quantitative and qualitative data types:\n",
    "(i) Grading in exam: A+, A, B+, B, C+, C, D, E\n",
    "(ii) Colour of mangoes: yellow, green, orange, red\n",
    "(iii) Height data of a class: [178.9, 179, 179.5, 176, 177.2, 178.3, 175.8,...]\n",
    "(iv) Number of mangoes exported by a farm: [500, 600, 478, 672, ...]"
   ]
  },
  {
   "cell_type": "code",
   "execution_count": null,
   "id": "afa72bae-0284-400a-b8af-a096d86e2ea5",
   "metadata": {},
   "outputs": [],
   "source": [
    "Ans: (i) Grading in exam: A+, A, B+, B, C+, C, D, E  =   Ordinal Qualitative data\n",
    "    \n",
    "    (ii) Colour of mangoes: yellow, green, orange, red  =  Nominal Qualitative data\n",
    "    \n",
    "    (iii) Height data of a class: [178.9, 179, 179.5, 176, 177.2, 178.3, 175.8,...] = continuous Quantitative data\n",
    "    \n",
    "    (iv) Number of mangoes exported by a farm: [500, 600, 478, 672, ...]  = Discreate Quantitative data\n",
    "        "
   ]
  },
  {
   "cell_type": "code",
   "execution_count": null,
   "id": "897bf1cf-acd9-4782-ad83-93722d55d76b",
   "metadata": {},
   "outputs": [],
   "source": [
    "Q5. Explain the concept of levels of measurement and give an example of a variable for each level."
   ]
  },
  {
   "cell_type": "code",
   "execution_count": null,
   "id": "8089197f-9f20-423b-8b5a-96fa6b21179c",
   "metadata": {},
   "outputs": [],
   "source": [
    "Ans : Levels of measurement, also known as scales of measurement or types of data, refer to the ways\n",
    "      in which variables are classified based on the nature and characteristics of the data they \n",
    "      represent. There are four commonly recognized levels of measurement\n",
    "        \n",
    "     1. Nominal Scale data : Gender,colour\n",
    "     2. Ordinal Scale data : position , Ranking\n",
    "     3. Interval Scale Data : Temperatuer \n",
    "     4. Ratio Scale data : Marks in a subject , price of the product"
   ]
  },
  {
   "cell_type": "code",
   "execution_count": null,
   "id": "2b01282c-96f8-4476-9664-f764d4ae909a",
   "metadata": {},
   "outputs": [],
   "source": [
    "Q6. Why is it important to understand the level of measurement when analyzing data? Provide an\n",
    "    example to illustrate your answer."
   ]
  },
  {
   "cell_type": "code",
   "execution_count": null,
   "id": "1e7f2244-cbed-4baf-ae78-e222956f5caf",
   "metadata": {},
   "outputs": [],
   "source": [
    "Ans:  It is important to understand the level of measurement when analyzing data because different \n",
    "levels of measurement have different properties and allow different types of analysis. For example,\n",
    "nominal data can only be counted and mode can be calculated, but ordinal data can also be ranked and\n",
    "median can be calculated. Interval data can also be added and subtracted and mean can be calculated,\n",
    "but ratio data can also be multiplied and divided and geometric mean can be calculated.\n",
    "\n",
    "Suppose you are analyzing data on customer satisfaction in a retail store. You have collected data\n",
    "on various aspects of customer experience, including the following two variables:\n",
    "\n",
    "Gender (Nominal): You've categorized customers as \"Male\" and \"Female.\"\n",
    "\n",
    "Age (Ratio): You've collected the actual ages of customers in years.\n",
    "\n",
    "Now, let's consider two scenarios:\n",
    "\n",
    "Scenario 1: You want to compare the number of males and females who visited the store. Since gender\n",
    "           is nominal data, you can create a simple bar chart to display the frequency of males and females.\n",
    "\n",
    "Scenario 2: You want to calculate the average age of customers who visited the store. Since age is \n",
    "          measured on a ratio scale, you can compute the mean and perform meaningful calculations.\n",
    "\n",
    "However, if you mistakenly treat age as nominal data and calculate the mean by assigning numerical \n",
    "labels to age groups (e.g., \"18-24,\" \"25-34,\" etc.), you may obtain inaccurate and misleading results.\n",
    "Understanding the level of measurement ensures that you use appropriate analysis techniques for each\n",
    "variable, leading to more accurate and actionable insights."
   ]
  },
  {
   "cell_type": "code",
   "execution_count": null,
   "id": "70613fe0-b47c-42d1-ad92-6fd014dc44ae",
   "metadata": {},
   "outputs": [],
   "source": [
    "Q7. How nominal data type is different from ordinal data type."
   ]
  },
  {
   "cell_type": "code",
   "execution_count": null,
   "id": "8613516e-40c7-48bb-b0ca-3d84c9a655f4",
   "metadata": {},
   "outputs": [],
   "source": [
    "Ans: In Nominal data , the order of data does not matter for example male/female ,pass/fail etc.\n",
    "     In Ordinal data , the order or Ranking of the data is matter. for example : 1st,2nd,3rd ; better,Good,Bad \n",
    "    "
   ]
  },
  {
   "cell_type": "code",
   "execution_count": null,
   "id": "3563ca36-f759-40e6-9638-ce86c7e9e910",
   "metadata": {},
   "outputs": [],
   "source": [
    "Q8. Which type of plot can be used to display data in terms of range?"
   ]
  },
  {
   "cell_type": "code",
   "execution_count": null,
   "id": "86128cc3-943b-42e5-afb5-69a1cd76f626",
   "metadata": {},
   "outputs": [],
   "source": [
    "Ans: A box plot, also known as a box-and-whisker plot, is a type of plot that is commonly used to \n",
    "     display data in terms of its range. It provides a visual summary of the distribution of a\n",
    "     dataset, including its minimum and maximum values, quartiles, and potential outliers. \n",
    "     Box plots are particularly useful for comparing the spread and central tendency of multiple \n",
    "     datasets or variables."
   ]
  },
  {
   "cell_type": "code",
   "execution_count": null,
   "id": "c8a50188-7d25-4353-8ecb-9af50f322bdd",
   "metadata": {},
   "outputs": [],
   "source": [
    "Q9. Describe the difference between descriptive and inferential statistics. Give an example of each\n",
    "    type of statistics and explain how they are used."
   ]
  },
  {
   "cell_type": "code",
   "execution_count": null,
   "id": "c7a58d34-4166-4575-8fcc-9eb34c71d40e",
   "metadata": {},
   "outputs": [],
   "source": [
    "Ans:\n",
    "1. Descriptive : \n",
    "               It consist of organizing and summarizing of data.\n",
    "               1. Measure of central tendency\n",
    "               2. Measure of Dispersion\n",
    "               3. Different type of distribution of data\n",
    "for example : Histogram , pdf ,pmf\n",
    "Example Use : Suppose you have collected the test scores of 100 students in a class and want to understand\n",
    "              how they performed on the exam. Descriptive statistics can help you calculate the mean \n",
    "              score to find the average performance, the median score to identify the middle value, and\n",
    "              the standard deviation to gauge the level of variation in the scores.\n",
    "            \n",
    "2. Inferential :\n",
    "               It consist of using data you have measured to form conclusion.\n",
    "               1. z-test\n",
    "               2. t-test\n",
    "               3. Chi-test\n",
    "for example : for a given data of height of student of class , are the heignt of student in that class\n",
    "             is similar to what you expect in the entire school.\n",
    "Example Use: Imagine you want to determine if a new teaching method is more effective than the traditional\n",
    "             one in improving student performance across a whole school district. You could collect data\n",
    "             from a sample of schools, compare the performance of students in both groups, and use inferential\n",
    "             statistics to assess whether the observed differences are likely due to the teaching method or if\n",
    "             they could have occurred by chance. Hypothesis testing and confidence intervals would be key tools\n",
    "             in this analysis."
   ]
  },
  {
   "cell_type": "code",
   "execution_count": null,
   "id": "5adf5761-3c20-4658-b801-d37c8572bdf9",
   "metadata": {},
   "outputs": [],
   "source": [
    "Q10. What are some common measures of central tendency and variability used in statistics? Explain\n",
    "     how each measure can be used to describe a dataset."
   ]
  },
  {
   "cell_type": "code",
   "execution_count": null,
   "id": "18972f96-e89b-4bad-89f6-79067867be09",
   "metadata": {},
   "outputs": [],
   "source": [
    "Ans: Measures of central tendency and measures of variability are fundamental statistical tools used\n",
    "     to describe datasets. They help provide insights into the typical or central values of a dataset\n",
    "    (central tendency) and the degree of spread or dispersion of the data points (variability). Here \n",
    "    are some common measures for each:\n",
    "    Measure of central Tendency :\n",
    "        1. Mean\n",
    "        2. Mode\n",
    "        3. Median\n",
    "    Measure of Variability :\n",
    "        1. Range\n",
    "        2.Variance\n",
    "        3. Standard Deviation\n",
    "        \n",
    "These measures are essential for summarizing and characterizing datasets. Depending on the nature of the\n",
    "data and the research question, you may choose to use one or more of these measures to gain a comprehensive\n",
    "understanding of the central tendency and variability within the dataset. Additionally, visualizations\n",
    "such as histograms, box plots, and scatter plots can complement these measures in providing a more complete \n",
    "picture of the data's distribution and characteristics."
   ]
  }
 ],
 "metadata": {
  "kernelspec": {
   "display_name": "Python 3 (ipykernel)",
   "language": "python",
   "name": "python3"
  },
  "language_info": {
   "codemirror_mode": {
    "name": "ipython",
    "version": 3
   },
   "file_extension": ".py",
   "mimetype": "text/x-python",
   "name": "python",
   "nbconvert_exporter": "python",
   "pygments_lexer": "ipython3",
   "version": "3.10.8"
  }
 },
 "nbformat": 4,
 "nbformat_minor": 5
}
